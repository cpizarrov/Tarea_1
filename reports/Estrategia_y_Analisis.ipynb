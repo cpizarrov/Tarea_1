{
  "cells": [
    {
      "cell_type": "markdown",
      "source": [
        "# **Evaluación mensual del modelo.**\n",
        "\n",
        "A continuación se realizará la evaluación de nuestro modelo entrenado con datos de enero 2020, contrastando su desempeño respecto a distintos meses del año. En este caso serán: Febrero, Marzo y Abril del 2020.\n",
        "\n",
        "### **Estrategia de ingesta.**\n",
        "\n",
        "Para cumplir con este objetivo, generamos una nueva función llamada 'load_taxi_data_full', la cual descarga y consolida los datos desde las diferentes URLs donde se encuentran almacenados los datos de viajes en taxi.\n",
        "\n",
        "A través de un ciclo *for* podemos modificar la fecha de la URL ('yellow_tripdata_{year}-{month}.parquet') en base a nuestro interés y conveniencia.\n",
        "\n",
        "https://d37ci6vzurychx.cloudfront.net/trip-data/yellow_tripdata_2020-01.parquet\n",
        "\n",
        "Nota: *Por límites en la memoria RAM de Google Collab, limitamos el análisis hasta Abril del 2020.*\n",
        "\n",
        "### **Estrategia de evaluación.**\n",
        "\n",
        "Adicionalmente, generamos la función 'evaluate_months'. Utilizando un ciclo *for* iteramos por cada uno de los meses de interés, los que se definen en los argumentos start_month y end_month. Filtramos el dataframe por el mes actual del bucle y realizamos la predicción junto con la evaluación. Finalmente, se almacena el mes, el volumen de casos y el F1-Score en una nueva variable ('results')."
      ],
      "metadata": {
        "id": "A1HOhctr9mP0"
      }
    },
    {
      "cell_type": "markdown",
      "source": [
        "## Carga del proyecto\n",
        "\n",
        "Primero que todo, cargaremos nuestro propio proyecto y realizaremos las importaciones necesarias."
      ],
      "metadata": {
        "id": "g4nd08rqEBqH"
      }
    },
    {
      "cell_type": "code",
      "source": [
        "!git clone https://github.com/cpizarrov/Tarea_1.git"
      ],
      "metadata": {
        "colab": {
          "base_uri": "https://localhost:8080/"
        },
        "id": "LYBXwM0N-ZJa",
        "outputId": "dc3f03eb-3aa5-41b1-841e-563cb5c5c536"
      },
      "execution_count": 1,
      "outputs": [
        {
          "output_type": "stream",
          "name": "stdout",
          "text": [
            "Cloning into 'Tarea_1'...\n",
            "remote: Enumerating objects: 149, done.\u001b[K\n",
            "remote: Counting objects: 100% (149/149), done.\u001b[K\n",
            "remote: Compressing objects: 100% (98/98), done.\u001b[K\n",
            "remote: Total 149 (delta 65), reused 115 (delta 31), pack-reused 0 (from 0)\u001b[K\n",
            "Receiving objects: 100% (149/149), 3.34 MiB | 21.49 MiB/s, done.\n",
            "Resolving deltas: 100% (65/65), done.\n"
          ]
        }
      ]
    },
    {
      "cell_type": "code",
      "source": [
        "%cd /content/Tarea_1"
      ],
      "metadata": {
        "colab": {
          "base_uri": "https://localhost:8080/"
        },
        "id": "o7OVZ1tU-hLM",
        "outputId": "ab0c7697-f042-4791-eb46-1091bff6cf46"
      },
      "execution_count": 2,
      "outputs": [
        {
          "output_type": "stream",
          "name": "stdout",
          "text": [
            "/content/Tarea_1\n"
          ]
        }
      ]
    },
    {
      "cell_type": "code",
      "execution_count": 3,
      "metadata": {
        "colab": {
          "base_uri": "https://localhost:8080/"
        },
        "id": "DBCsihkdKmcN",
        "outputId": "951b3766-a743-4724-c735-1d3fe5a939e5"
      },
      "outputs": [
        {
          "output_type": "stream",
          "name": "stdout",
          "text": [
            "Requirement already satisfied: pandas in /usr/local/lib/python3.11/dist-packages (from -r /content/Tarea_1/requirements.txt (line 1)) (2.2.2)\n",
            "Requirement already satisfied: scikit-learn in /usr/local/lib/python3.11/dist-packages (from -r /content/Tarea_1/requirements.txt (line 2)) (1.6.1)\n",
            "Requirement already satisfied: joblib in /usr/local/lib/python3.11/dist-packages (from -r /content/Tarea_1/requirements.txt (line 3)) (1.5.1)\n",
            "Requirement already satisfied: numpy>=1.23.2 in /usr/local/lib/python3.11/dist-packages (from pandas->-r /content/Tarea_1/requirements.txt (line 1)) (2.0.2)\n",
            "Requirement already satisfied: python-dateutil>=2.8.2 in /usr/local/lib/python3.11/dist-packages (from pandas->-r /content/Tarea_1/requirements.txt (line 1)) (2.9.0.post0)\n",
            "Requirement already satisfied: pytz>=2020.1 in /usr/local/lib/python3.11/dist-packages (from pandas->-r /content/Tarea_1/requirements.txt (line 1)) (2025.2)\n",
            "Requirement already satisfied: tzdata>=2022.7 in /usr/local/lib/python3.11/dist-packages (from pandas->-r /content/Tarea_1/requirements.txt (line 1)) (2025.2)\n",
            "Requirement already satisfied: scipy>=1.6.0 in /usr/local/lib/python3.11/dist-packages (from scikit-learn->-r /content/Tarea_1/requirements.txt (line 2)) (1.15.3)\n",
            "Requirement already satisfied: threadpoolctl>=3.1.0 in /usr/local/lib/python3.11/dist-packages (from scikit-learn->-r /content/Tarea_1/requirements.txt (line 2)) (3.6.0)\n",
            "Requirement already satisfied: six>=1.5 in /usr/local/lib/python3.11/dist-packages (from python-dateutil>=2.8.2->pandas->-r /content/Tarea_1/requirements.txt (line 1)) (1.17.0)\n"
          ]
        }
      ],
      "source": [
        "!pip install -r /content/Tarea_1/requirements.txt"
      ]
    },
    {
      "cell_type": "code",
      "execution_count": 4,
      "metadata": {
        "id": "_MDkufUYwpjW"
      },
      "outputs": [],
      "source": [
        "from src import (\n",
        "    load_taxi_data,\n",
        "    load_taxi_data_full,\n",
        "    preprocess,\n",
        "    train_model,\n",
        "    predict,\n",
        "    load_model,\n",
        "    evaluate,\n",
        "    evaluate_months,\n",
        "    features,\n",
        "    target_col,\n",
        "    plot_casos,\n",
        "    plot_f1score\n",
        ")"
      ]
    },
    {
      "cell_type": "markdown",
      "source": [
        "## Carga de datos de entrenamiento y del modelo"
      ],
      "metadata": {
        "id": "HV0Pz4SsEW0J"
      }
    },
    {
      "cell_type": "code",
      "execution_count": 5,
      "metadata": {
        "id": "9BIlfh8SPBR0"
      },
      "outputs": [],
      "source": [
        "df = load_taxi_data()\n",
        "df = preprocess(df, target_col)"
      ]
    },
    {
      "cell_type": "code",
      "execution_count": 6,
      "metadata": {
        "id": "qIdBvulQxZy-"
      },
      "outputs": [],
      "source": [
        "model = load_model(\"models/random_forest.joblib\")"
      ]
    },
    {
      "cell_type": "markdown",
      "source": [
        "## Carga de datos para evaluación (hasta abril 2020)"
      ],
      "metadata": {
        "id": "VOwyd4TGEsZW"
      }
    },
    {
      "cell_type": "code",
      "execution_count": 7,
      "metadata": {
        "colab": {
          "base_uri": "https://localhost:8080/"
        },
        "id": "IdWRj_fRxntL",
        "outputId": "cd8c1387-38ba-4cef-c220-b92b8deb8fb6"
      },
      "outputs": [
        {
          "output_type": "stream",
          "name": "stdout",
          "text": [
            " Cargando https://d37ci6vzurychx.cloudfront.net/trip-data/yellow_tripdata_2020-01.parquet\n",
            " Cargando https://d37ci6vzurychx.cloudfront.net/trip-data/yellow_tripdata_2020-02.parquet\n",
            " Cargando https://d37ci6vzurychx.cloudfront.net/trip-data/yellow_tripdata_2020-03.parquet\n",
            " Cargando https://d37ci6vzurychx.cloudfront.net/trip-data/yellow_tripdata_2020-04.parquet\n"
          ]
        }
      ],
      "source": [
        "df_full = preprocess(load_taxi_data_full(\"2020\"), target_col)"
      ]
    },
    {
      "cell_type": "markdown",
      "source": [
        "## Generamos la evaluación del modelo y observamos la evolución de los resultados"
      ],
      "metadata": {
        "id": "yUGNQYh_E2jq"
      }
    },
    {
      "cell_type": "code",
      "source": [
        "results = evaluate_months(model, df=df_full, year=\"2020\", start_month=1, end_month=4)\n",
        "results"
      ],
      "metadata": {
        "colab": {
          "base_uri": "https://localhost:8080/",
          "height": 175
        },
        "id": "1jfRy4wi4rY9",
        "outputId": "b707ecb8-8fab-4b64-cd9f-69ad555e8415"
      },
      "execution_count": 8,
      "outputs": [
        {
          "output_type": "execute_result",
          "data": {
            "text/plain": [
              "       mes  n_casos  f1_score\n",
              "0  2020-01  6380121    0.7298\n",
              "1  2020-02  6276456    0.7350\n",
              "2  2020-03  2998349    0.7258\n",
              "3  2020-04   236461    0.6114"
            ],
            "text/html": [
              "\n",
              "  <div id=\"df-57de1a4d-b8cc-4506-848b-45937bdc82b6\" class=\"colab-df-container\">\n",
              "    <div>\n",
              "<style scoped>\n",
              "    .dataframe tbody tr th:only-of-type {\n",
              "        vertical-align: middle;\n",
              "    }\n",
              "\n",
              "    .dataframe tbody tr th {\n",
              "        vertical-align: top;\n",
              "    }\n",
              "\n",
              "    .dataframe thead th {\n",
              "        text-align: right;\n",
              "    }\n",
              "</style>\n",
              "<table border=\"1\" class=\"dataframe\">\n",
              "  <thead>\n",
              "    <tr style=\"text-align: right;\">\n",
              "      <th></th>\n",
              "      <th>mes</th>\n",
              "      <th>n_casos</th>\n",
              "      <th>f1_score</th>\n",
              "    </tr>\n",
              "  </thead>\n",
              "  <tbody>\n",
              "    <tr>\n",
              "      <th>0</th>\n",
              "      <td>2020-01</td>\n",
              "      <td>6380121</td>\n",
              "      <td>0.7298</td>\n",
              "    </tr>\n",
              "    <tr>\n",
              "      <th>1</th>\n",
              "      <td>2020-02</td>\n",
              "      <td>6276456</td>\n",
              "      <td>0.7350</td>\n",
              "    </tr>\n",
              "    <tr>\n",
              "      <th>2</th>\n",
              "      <td>2020-03</td>\n",
              "      <td>2998349</td>\n",
              "      <td>0.7258</td>\n",
              "    </tr>\n",
              "    <tr>\n",
              "      <th>3</th>\n",
              "      <td>2020-04</td>\n",
              "      <td>236461</td>\n",
              "      <td>0.6114</td>\n",
              "    </tr>\n",
              "  </tbody>\n",
              "</table>\n",
              "</div>\n",
              "    <div class=\"colab-df-buttons\">\n",
              "\n",
              "  <div class=\"colab-df-container\">\n",
              "    <button class=\"colab-df-convert\" onclick=\"convertToInteractive('df-57de1a4d-b8cc-4506-848b-45937bdc82b6')\"\n",
              "            title=\"Convert this dataframe to an interactive table.\"\n",
              "            style=\"display:none;\">\n",
              "\n",
              "  <svg xmlns=\"http://www.w3.org/2000/svg\" height=\"24px\" viewBox=\"0 -960 960 960\">\n",
              "    <path d=\"M120-120v-720h720v720H120Zm60-500h600v-160H180v160Zm220 220h160v-160H400v160Zm0 220h160v-160H400v160ZM180-400h160v-160H180v160Zm440 0h160v-160H620v160ZM180-180h160v-160H180v160Zm440 0h160v-160H620v160Z\"/>\n",
              "  </svg>\n",
              "    </button>\n",
              "\n",
              "  <style>\n",
              "    .colab-df-container {\n",
              "      display:flex;\n",
              "      gap: 12px;\n",
              "    }\n",
              "\n",
              "    .colab-df-convert {\n",
              "      background-color: #E8F0FE;\n",
              "      border: none;\n",
              "      border-radius: 50%;\n",
              "      cursor: pointer;\n",
              "      display: none;\n",
              "      fill: #1967D2;\n",
              "      height: 32px;\n",
              "      padding: 0 0 0 0;\n",
              "      width: 32px;\n",
              "    }\n",
              "\n",
              "    .colab-df-convert:hover {\n",
              "      background-color: #E2EBFA;\n",
              "      box-shadow: 0px 1px 2px rgba(60, 64, 67, 0.3), 0px 1px 3px 1px rgba(60, 64, 67, 0.15);\n",
              "      fill: #174EA6;\n",
              "    }\n",
              "\n",
              "    .colab-df-buttons div {\n",
              "      margin-bottom: 4px;\n",
              "    }\n",
              "\n",
              "    [theme=dark] .colab-df-convert {\n",
              "      background-color: #3B4455;\n",
              "      fill: #D2E3FC;\n",
              "    }\n",
              "\n",
              "    [theme=dark] .colab-df-convert:hover {\n",
              "      background-color: #434B5C;\n",
              "      box-shadow: 0px 1px 3px 1px rgba(0, 0, 0, 0.15);\n",
              "      filter: drop-shadow(0px 1px 2px rgba(0, 0, 0, 0.3));\n",
              "      fill: #FFFFFF;\n",
              "    }\n",
              "  </style>\n",
              "\n",
              "    <script>\n",
              "      const buttonEl =\n",
              "        document.querySelector('#df-57de1a4d-b8cc-4506-848b-45937bdc82b6 button.colab-df-convert');\n",
              "      buttonEl.style.display =\n",
              "        google.colab.kernel.accessAllowed ? 'block' : 'none';\n",
              "\n",
              "      async function convertToInteractive(key) {\n",
              "        const element = document.querySelector('#df-57de1a4d-b8cc-4506-848b-45937bdc82b6');\n",
              "        const dataTable =\n",
              "          await google.colab.kernel.invokeFunction('convertToInteractive',\n",
              "                                                    [key], {});\n",
              "        if (!dataTable) return;\n",
              "\n",
              "        const docLinkHtml = 'Like what you see? Visit the ' +\n",
              "          '<a target=\"_blank\" href=https://colab.research.google.com/notebooks/data_table.ipynb>data table notebook</a>'\n",
              "          + ' to learn more about interactive tables.';\n",
              "        element.innerHTML = '';\n",
              "        dataTable['output_type'] = 'display_data';\n",
              "        await google.colab.output.renderOutput(dataTable, element);\n",
              "        const docLink = document.createElement('div');\n",
              "        docLink.innerHTML = docLinkHtml;\n",
              "        element.appendChild(docLink);\n",
              "      }\n",
              "    </script>\n",
              "  </div>\n",
              "\n",
              "\n",
              "    <div id=\"df-d0af40d1-2e75-43ec-82f3-bad952331002\">\n",
              "      <button class=\"colab-df-quickchart\" onclick=\"quickchart('df-d0af40d1-2e75-43ec-82f3-bad952331002')\"\n",
              "                title=\"Suggest charts\"\n",
              "                style=\"display:none;\">\n",
              "\n",
              "<svg xmlns=\"http://www.w3.org/2000/svg\" height=\"24px\"viewBox=\"0 0 24 24\"\n",
              "     width=\"24px\">\n",
              "    <g>\n",
              "        <path d=\"M19 3H5c-1.1 0-2 .9-2 2v14c0 1.1.9 2 2 2h14c1.1 0 2-.9 2-2V5c0-1.1-.9-2-2-2zM9 17H7v-7h2v7zm4 0h-2V7h2v10zm4 0h-2v-4h2v4z\"/>\n",
              "    </g>\n",
              "</svg>\n",
              "      </button>\n",
              "\n",
              "<style>\n",
              "  .colab-df-quickchart {\n",
              "      --bg-color: #E8F0FE;\n",
              "      --fill-color: #1967D2;\n",
              "      --hover-bg-color: #E2EBFA;\n",
              "      --hover-fill-color: #174EA6;\n",
              "      --disabled-fill-color: #AAA;\n",
              "      --disabled-bg-color: #DDD;\n",
              "  }\n",
              "\n",
              "  [theme=dark] .colab-df-quickchart {\n",
              "      --bg-color: #3B4455;\n",
              "      --fill-color: #D2E3FC;\n",
              "      --hover-bg-color: #434B5C;\n",
              "      --hover-fill-color: #FFFFFF;\n",
              "      --disabled-bg-color: #3B4455;\n",
              "      --disabled-fill-color: #666;\n",
              "  }\n",
              "\n",
              "  .colab-df-quickchart {\n",
              "    background-color: var(--bg-color);\n",
              "    border: none;\n",
              "    border-radius: 50%;\n",
              "    cursor: pointer;\n",
              "    display: none;\n",
              "    fill: var(--fill-color);\n",
              "    height: 32px;\n",
              "    padding: 0;\n",
              "    width: 32px;\n",
              "  }\n",
              "\n",
              "  .colab-df-quickchart:hover {\n",
              "    background-color: var(--hover-bg-color);\n",
              "    box-shadow: 0 1px 2px rgba(60, 64, 67, 0.3), 0 1px 3px 1px rgba(60, 64, 67, 0.15);\n",
              "    fill: var(--button-hover-fill-color);\n",
              "  }\n",
              "\n",
              "  .colab-df-quickchart-complete:disabled,\n",
              "  .colab-df-quickchart-complete:disabled:hover {\n",
              "    background-color: var(--disabled-bg-color);\n",
              "    fill: var(--disabled-fill-color);\n",
              "    box-shadow: none;\n",
              "  }\n",
              "\n",
              "  .colab-df-spinner {\n",
              "    border: 2px solid var(--fill-color);\n",
              "    border-color: transparent;\n",
              "    border-bottom-color: var(--fill-color);\n",
              "    animation:\n",
              "      spin 1s steps(1) infinite;\n",
              "  }\n",
              "\n",
              "  @keyframes spin {\n",
              "    0% {\n",
              "      border-color: transparent;\n",
              "      border-bottom-color: var(--fill-color);\n",
              "      border-left-color: var(--fill-color);\n",
              "    }\n",
              "    20% {\n",
              "      border-color: transparent;\n",
              "      border-left-color: var(--fill-color);\n",
              "      border-top-color: var(--fill-color);\n",
              "    }\n",
              "    30% {\n",
              "      border-color: transparent;\n",
              "      border-left-color: var(--fill-color);\n",
              "      border-top-color: var(--fill-color);\n",
              "      border-right-color: var(--fill-color);\n",
              "    }\n",
              "    40% {\n",
              "      border-color: transparent;\n",
              "      border-right-color: var(--fill-color);\n",
              "      border-top-color: var(--fill-color);\n",
              "    }\n",
              "    60% {\n",
              "      border-color: transparent;\n",
              "      border-right-color: var(--fill-color);\n",
              "    }\n",
              "    80% {\n",
              "      border-color: transparent;\n",
              "      border-right-color: var(--fill-color);\n",
              "      border-bottom-color: var(--fill-color);\n",
              "    }\n",
              "    90% {\n",
              "      border-color: transparent;\n",
              "      border-bottom-color: var(--fill-color);\n",
              "    }\n",
              "  }\n",
              "</style>\n",
              "\n",
              "      <script>\n",
              "        async function quickchart(key) {\n",
              "          const quickchartButtonEl =\n",
              "            document.querySelector('#' + key + ' button');\n",
              "          quickchartButtonEl.disabled = true;  // To prevent multiple clicks.\n",
              "          quickchartButtonEl.classList.add('colab-df-spinner');\n",
              "          try {\n",
              "            const charts = await google.colab.kernel.invokeFunction(\n",
              "                'suggestCharts', [key], {});\n",
              "          } catch (error) {\n",
              "            console.error('Error during call to suggestCharts:', error);\n",
              "          }\n",
              "          quickchartButtonEl.classList.remove('colab-df-spinner');\n",
              "          quickchartButtonEl.classList.add('colab-df-quickchart-complete');\n",
              "        }\n",
              "        (() => {\n",
              "          let quickchartButtonEl =\n",
              "            document.querySelector('#df-d0af40d1-2e75-43ec-82f3-bad952331002 button');\n",
              "          quickchartButtonEl.style.display =\n",
              "            google.colab.kernel.accessAllowed ? 'block' : 'none';\n",
              "        })();\n",
              "      </script>\n",
              "    </div>\n",
              "\n",
              "  <div id=\"id_09e82268-666d-4e03-8415-07c44e355bed\">\n",
              "    <style>\n",
              "      .colab-df-generate {\n",
              "        background-color: #E8F0FE;\n",
              "        border: none;\n",
              "        border-radius: 50%;\n",
              "        cursor: pointer;\n",
              "        display: none;\n",
              "        fill: #1967D2;\n",
              "        height: 32px;\n",
              "        padding: 0 0 0 0;\n",
              "        width: 32px;\n",
              "      }\n",
              "\n",
              "      .colab-df-generate:hover {\n",
              "        background-color: #E2EBFA;\n",
              "        box-shadow: 0px 1px 2px rgba(60, 64, 67, 0.3), 0px 1px 3px 1px rgba(60, 64, 67, 0.15);\n",
              "        fill: #174EA6;\n",
              "      }\n",
              "\n",
              "      [theme=dark] .colab-df-generate {\n",
              "        background-color: #3B4455;\n",
              "        fill: #D2E3FC;\n",
              "      }\n",
              "\n",
              "      [theme=dark] .colab-df-generate:hover {\n",
              "        background-color: #434B5C;\n",
              "        box-shadow: 0px 1px 3px 1px rgba(0, 0, 0, 0.15);\n",
              "        filter: drop-shadow(0px 1px 2px rgba(0, 0, 0, 0.3));\n",
              "        fill: #FFFFFF;\n",
              "      }\n",
              "    </style>\n",
              "    <button class=\"colab-df-generate\" onclick=\"generateWithVariable('results')\"\n",
              "            title=\"Generate code using this dataframe.\"\n",
              "            style=\"display:none;\">\n",
              "\n",
              "  <svg xmlns=\"http://www.w3.org/2000/svg\" height=\"24px\"viewBox=\"0 0 24 24\"\n",
              "       width=\"24px\">\n",
              "    <path d=\"M7,19H8.4L18.45,9,17,7.55,7,17.6ZM5,21V16.75L18.45,3.32a2,2,0,0,1,2.83,0l1.4,1.43a1.91,1.91,0,0,1,.58,1.4,1.91,1.91,0,0,1-.58,1.4L9.25,21ZM18.45,9,17,7.55Zm-12,3A5.31,5.31,0,0,0,4.9,8.1,5.31,5.31,0,0,0,1,6.5,5.31,5.31,0,0,0,4.9,4.9,5.31,5.31,0,0,0,6.5,1,5.31,5.31,0,0,0,8.1,4.9,5.31,5.31,0,0,0,12,6.5,5.46,5.46,0,0,0,6.5,12Z\"/>\n",
              "  </svg>\n",
              "    </button>\n",
              "    <script>\n",
              "      (() => {\n",
              "      const buttonEl =\n",
              "        document.querySelector('#id_09e82268-666d-4e03-8415-07c44e355bed button.colab-df-generate');\n",
              "      buttonEl.style.display =\n",
              "        google.colab.kernel.accessAllowed ? 'block' : 'none';\n",
              "\n",
              "      buttonEl.onclick = () => {\n",
              "        google.colab.notebook.generateWithVariable('results');\n",
              "      }\n",
              "      })();\n",
              "    </script>\n",
              "  </div>\n",
              "\n",
              "    </div>\n",
              "  </div>\n"
            ],
            "application/vnd.google.colaboratory.intrinsic+json": {
              "type": "dataframe",
              "variable_name": "results",
              "summary": "{\n  \"name\": \"results\",\n  \"rows\": 4,\n  \"fields\": [\n    {\n      \"column\": \"mes\",\n      \"properties\": {\n        \"dtype\": \"object\",\n        \"num_unique_values\": 4,\n        \"samples\": [\n          \"2020-02\",\n          \"2020-04\",\n          \"2020-01\"\n        ],\n        \"semantic_type\": \"\",\n        \"description\": \"\"\n      }\n    },\n    {\n      \"column\": \"n_casos\",\n      \"properties\": {\n        \"dtype\": \"number\",\n        \"std\": 2944588,\n        \"min\": 236461,\n        \"max\": 6380121,\n        \"num_unique_values\": 4,\n        \"samples\": [\n          6276456,\n          236461,\n          6380121\n        ],\n        \"semantic_type\": \"\",\n        \"description\": \"\"\n      }\n    },\n    {\n      \"column\": \"f1_score\",\n      \"properties\": {\n        \"dtype\": \"number\",\n        \"std\": 0.059519296590825596,\n        \"min\": 0.6114,\n        \"max\": 0.735,\n        \"num_unique_values\": 4,\n        \"samples\": [\n          0.735,\n          0.6114,\n          0.7298\n        ],\n        \"semantic_type\": \"\",\n        \"description\": \"\"\n      }\n    }\n  ]\n}"
            }
          },
          "metadata": {},
          "execution_count": 8
        }
      ]
    },
    {
      "cell_type": "markdown",
      "source": [
        "## Graficamos los resultados"
      ],
      "metadata": {
        "id": "xu3loitRFBhq"
      }
    },
    {
      "cell_type": "code",
      "execution_count": 9,
      "metadata": {
        "id": "wcJIs3bMxppM",
        "colab": {
          "base_uri": "https://localhost:8080/",
          "height": 524
        },
        "outputId": "9cca3065-33b7-4bdf-aab0-38e38ce89d05"
      },
      "outputs": [
        {
          "output_type": "stream",
          "name": "stdout",
          "text": [
            "Gráfico guardado en reports/figures/f1_score_por_mes.png\n"
          ]
        },
        {
          "output_type": "display_data",
          "data": {
            "text/plain": [
              "<Figure size 1000x500 with 1 Axes>"
            ],
            "image/png": "[encoded data removed]"
          },
          "metadata": {}
        }
      ],
      "source": [
        "## Gráficos por mes\n",
        "plot_f1score(results, save_dir=\"reports/figures\")"
      ]
    },
    {
      "cell_type": "code",
      "source": [
        "plot_casos(results, save_dir=\"reports/figures\")"
      ],
      "metadata": {
        "colab": {
          "base_uri": "https://localhost:8080/",
          "height": 524
        },
        "id": "NRy2WRgYxF_b",
        "outputId": "f6150cce-ab6d-4a96-b06f-63626424f93f"
      },
      "execution_count": 10,
      "outputs": [
        {
          "output_type": "stream",
          "name": "stdout",
          "text": [
            "Gráfico guardado en reports/figures/casos_por_mes.png\n"
          ]
        },
        {
          "output_type": "display_data",
          "data": {
            "text/plain": [
              "<Figure size 1000x500 with 1 Axes>"
            ],
            "image/png": "[encoded data removed]"
          },
          "metadata": {}
        }
      ]
    },
    {
      "cell_type": "markdown",
      "source": [
        "# **Análisis de resultados**\n",
        "\n",
        "En general, el rendimiento del modelo se mantiene consistente desde enero hasta marzo del 2020. Sin embargo, muestra una caída significativa en abril, la cual se ve acompañada de una caída en el volumen de casos.\n",
        "\n",
        "**¿Qué podría explicar la variación del desempeño? y ¿Qué podría haber ocurrido en abril?**\n",
        "\n",
        "Diversos factores podrían afectar la variación del desempeño de un modelo. Por ejemplo, el comportamiento de los pasajeros o el tipo de pasajero podría tener un componente estacional que varía dependiendo del mes, de la estación o de la época del año. Es por esto que un modelo entrenado durante enero (invierno) y con buen desempeño en febrero, podría tener un pésimo rendimiento durante los meses de verano. Ligado a esto, el turismo podría jugar un rol importante.\n",
        "\n",
        "Otro factor podría ser el contexto económico, dado que si la situación es precaria (ej. alta tasa de desempleo), es probable que menos personas prefieran este tipo de transporte.\n",
        "\n",
        "Tampoco podemos olvidar como la pandemia del COVID-19 generó, a nivel mundial, un cambio en las dinámicas de movilidad debido a las restricciones sanitarias. De hecho, es altamente probable que ésto último sea lo que está afectando tanto al rendimiento del modelo como a la baja cantidad de casos observados en abril (y que venían disminuyendo desde marzo), dado que en esas fechas se comenzaron a aplicar las restricciones sanitarias en Nueva York (7 de marzo se declara estado de emergencia y durante el mismo mes se da la orden de quedarse en casa).\n",
        "\n",
        "Dado que ésto último resulta ser una explicación perfectamente válida y razonable para explicar la disminución de casos y de rendimiento, no se continuará especulando del asunto. Sin embargo, en cualquier otro contexto esto constituiría una situación seria para investigar, ya que incluso podríamos estar en presencia de un problema técnico en la captura o ingesta de datos.\n",
        "\n",
        "**Finalmente, ¿Qué podríamos hacer para mejorar la robustez del modelo?**\n",
        "\n",
        "Una de las estrategias más recomendables sería implementar un proceso de mantenimiento continuo del modelo. Para ello, deberíamos desarrollar un pipeline automatizado de ingesta datos, que permita actualizar el modelo periódicamente mediante reentrenamientos. Esto no solo ayudaría a mantener su rendimiento, sino que también permitiría que el modelo se adapte a posibles cambios en los patrones de comportamiento. De esta forma, podríamos evitar una degradación \"natural\".\n",
        "\n",
        "Por supuesto, esto no nos serviría de mucho contra otra pandemia, pero contar con una infraestructura de actualización ágil permitiría adaptar el modelo en un tiempo razonable.\n",
        "\n",
        "Otra alternativa podría ser la de entrenar distintos modelos a partir de subconjuntos de datos segmentados, por ejemplo, por mes o por estación del año. Esto permitiría capturar patrones estacionales de forma más precisa y así mantener un rendimiento consistente a lo largo del tiempo."
      ],
      "metadata": {
        "id": "W2miOKkaFaSb"
      }
    }
  ],
  "metadata": {
    "colab": {
      "provenance": []
    },
    "kernelspec": {
      "display_name": "Python 3",
      "name": "python3"
    },
    "language_info": {
      "name": "python"
    }
  },
  "nbformat": 4,
  "nbformat_minor": 0
}